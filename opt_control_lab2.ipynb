{
 "cells": [
  {
   "cell_type": "code",
   "execution_count": 1,
   "metadata": {
    "collapsed": false
   },
   "outputs": [],
   "source": [
    "%matplotlib notebook\n",
    "import numpy as np"
   ]
  },
  {
   "cell_type": "code",
   "execution_count": 8,
   "metadata": {
    "collapsed": false
   },
   "outputs": [],
   "source": [
    "def rosen(x):\n",
    "    \"\"\"Rosenbrock function\"\"\"\n",
    "    return (100.0*(x[1]-x[0]**2)**2+(x[0]-1.0)**2)[0]\n",
    "\n",
    "def grad_rosen(x):\n",
    "    \"\"\"Gradient of the Rosenbrock function\"\"\"\n",
    "    return np.array([-400.0*(x[1]-x[0]**2)*x[0]+2.0*(x[0]-1.0), 200.0*(x[1]-x[0]**2)])\n",
    "\n",
    "def wolfe(func, grad_func, x, f_val, f_grad_val, search_dir, param):\n",
    "    a = param['a0']\n",
    "    f = func(x + a*search_dir)\n",
    "\n",
    "    while (f > f_val + param['epsilon0']*a*np.transpose(search_dir).dot(f_grad_val)):\n",
    "        a = param['rho']*a\n",
    "        f = func(x + a*search_dir)\n",
    "    \n",
    "    return a"
   ]
  },
  {
   "cell_type": "code",
   "execution_count": 9,
   "metadata": {
    "collapsed": true
   },
   "outputs": [],
   "source": [
    "def linesearch(func, grad_func, x_start, param, eps):\n",
    "    f_dist = 1e5\n",
    "    x = x_start\n",
    "    max_iter = 1000\n",
    "    num_iter = 0\n",
    "    converged_flag = False\n",
    "    # Main loop\n",
    "    while (num_iter < max_iter):\n",
    "        num_iter = num_iter + 1\n",
    "        \n",
    "        # Search direction\n",
    "        f_val = func(x)\n",
    "        f_grad_val = grad_func(x)\n",
    "        search_dir = -f_grad_val\n",
    "        \n",
    "        # Step length\n",
    "        a = wolfe(rosen, grad_rosen, x, f_val, f_grad_val, search_dir, param)\n",
    "        \n",
    "        # Iterate\n",
    "        x = x + a*search_dir;\n",
    "        \n",
    "        # Update distance\n",
    "        f_dist = np.abs(func(x))\n",
    "        \n",
    "        if (f_dist < eps):\n",
    "            converged_flag = True\n",
    "            break\n",
    "    \n",
    "    if converged_flag:\n",
    "        print('Linesearch converged with f_dist: {}'.format(f_dist))\n",
    "        print('Total number of iterations: {}'.format(num_iter))\n",
    "        return x\n",
    "    \n",
    "    return False"
   ]
  },
  {
   "cell_type": "code",
   "execution_count": 10,
   "metadata": {
    "collapsed": false
   },
   "outputs": [
    {
     "name": "stdout",
     "output_type": "stream",
     "text": [
      "Linesearch converged with f_dist: 9.66070400052e-07\n",
      "Total number of iterations: 682\n"
     ]
    },
    {
     "data": {
      "text/plain": [
       "array([[ 0.9990298 ],\n",
       "       [ 0.99807628]])"
      ]
     },
     "execution_count": 10,
     "metadata": {},
     "output_type": "execute_result"
    }
   ],
   "source": [
    "# Starting value for iterations\n",
    "x_start = np.array([[-1],[1]])\n",
    "\n",
    "# Parameters for Wolfe and Backtracking\n",
    "param = {'epsilon0': 0.8,\n",
    "         'a0': 5.0,\n",
    "         'rho': 0.8}\n",
    "\n",
    "linesearch(rosen, grad_rosen, x_start, param, 1e-6)"
   ]
  },
  {
   "cell_type": "code",
   "execution_count": null,
   "metadata": {
    "collapsed": true
   },
   "outputs": [],
   "source": []
  }
 ],
 "metadata": {
  "kernelspec": {
   "display_name": "Python 2",
   "language": "python",
   "name": "python2"
  },
  "language_info": {
   "codemirror_mode": {
    "name": "ipython",
    "version": 2
   },
   "file_extension": ".py",
   "mimetype": "text/x-python",
   "name": "python",
   "nbconvert_exporter": "python",
   "pygments_lexer": "ipython2",
   "version": "2.7.12"
  }
 },
 "nbformat": 4,
 "nbformat_minor": 1
}
