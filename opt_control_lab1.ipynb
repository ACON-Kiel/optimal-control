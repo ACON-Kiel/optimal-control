{
 "cells": [
  {
   "cell_type": "markdown",
   "metadata": {},
   "source": [
    "# Optimization and optimal control 2016"
   ]
  },
  {
   "cell_type": "markdown",
   "metadata": {},
   "source": [
    "## Introduction\n",
    "This demonstrates the general functionality of python in combination with numpy, scipy and matplotlib.\n",
    "\n",
    "For a way more general introduction look a http://www.scipy-lectures.org/intro/"
   ]
  },
  {
   "cell_type": "markdown",
   "metadata": {},
   "source": [
    "In order have access to functionality of modules we need to import them"
   ]
  },
  {
   "cell_type": "code",
   "execution_count": 36,
   "metadata": {
    "collapsed": false
   },
   "outputs": [],
   "source": [
    "%matplotlib notebook\n",
    "import numpy as np"
   ]
  },
  {
   "cell_type": "markdown",
   "metadata": {},
   "source": [
    "## General math"
   ]
  },
  {
   "cell_type": "code",
   "execution_count": 37,
   "metadata": {
    "collapsed": false
   },
   "outputs": [
    {
     "data": {
      "text/plain": [
       "2"
      ]
     },
     "execution_count": 37,
     "metadata": {},
     "output_type": "execute_result"
    }
   ],
   "source": [
    "1 + 1"
   ]
  },
  {
   "cell_type": "code",
   "execution_count": 38,
   "metadata": {
    "collapsed": false
   },
   "outputs": [
    {
     "data": {
      "text/plain": [
       "2.5"
      ]
     },
     "execution_count": 38,
     "metadata": {},
     "output_type": "execute_result"
    }
   ],
   "source": [
    "1.0 + 1.5"
   ]
  },
  {
   "cell_type": "markdown",
   "metadata": {},
   "source": [
    "** ATTENTION ** Use floating point definitions for divisions (just use them everywhere, which could possibly be a floating point number ** ATTENTION **"
   ]
  },
  {
   "cell_type": "code",
   "execution_count": 39,
   "metadata": {
    "collapsed": false
   },
   "outputs": [
    {
     "data": {
      "text/plain": [
       "0"
      ]
     },
     "execution_count": 39,
     "metadata": {},
     "output_type": "execute_result"
    }
   ],
   "source": [
    "2 / 5"
   ]
  },
  {
   "cell_type": "code",
   "execution_count": 40,
   "metadata": {
    "collapsed": false
   },
   "outputs": [
    {
     "data": {
      "text/plain": [
       "0.4"
      ]
     },
     "execution_count": 40,
     "metadata": {},
     "output_type": "execute_result"
    }
   ],
   "source": [
    "2.0 / 5.0"
   ]
  },
  {
   "cell_type": "markdown",
   "metadata": {},
   "source": [
    "## Linear algebra operations\n",
    "We are only using the numpy array objects, even for matrices!"
   ]
  },
  {
   "cell_type": "code",
   "execution_count": 41,
   "metadata": {
    "collapsed": false
   },
   "outputs": [
    {
     "name": "stdout",
     "output_type": "stream",
     "text": [
      "[0 1 2]\n"
     ]
    }
   ],
   "source": [
    "v = np.array([0, 1, 2])\n",
    "print(v)"
   ]
  },
  {
   "cell_type": "markdown",
   "metadata": {},
   "source": [
    "Matrices are represented as 2D arrays"
   ]
  },
  {
   "cell_type": "code",
   "execution_count": 42,
   "metadata": {
    "collapsed": false
   },
   "outputs": [
    {
     "data": {
      "text/plain": [
       "array([[0, 1, 2],\n",
       "       [3, 4, 5],\n",
       "       [6, 7, 8]])"
      ]
     },
     "execution_count": 42,
     "metadata": {},
     "output_type": "execute_result"
    }
   ],
   "source": [
    "A = np.array([[0, 1, 2],[3, 4, 5], [6, 7, 8]])\n",
    "A"
   ]
  },
  {
   "cell_type": "code",
   "execution_count": 43,
   "metadata": {
    "collapsed": false
   },
   "outputs": [
    {
     "data": {
      "text/plain": [
       "array([ 5, 14, 23])"
      ]
     },
     "execution_count": 43,
     "metadata": {},
     "output_type": "execute_result"
    }
   ],
   "source": [
    "A.dot(v)"
   ]
  },
  {
   "cell_type": "code",
   "execution_count": 44,
   "metadata": {
    "collapsed": false
   },
   "outputs": [
    {
     "data": {
      "text/plain": [
       "array([[ 15,  18,  21],\n",
       "       [ 42,  54,  66],\n",
       "       [ 69,  90, 111]])"
      ]
     },
     "execution_count": 44,
     "metadata": {},
     "output_type": "execute_result"
    }
   ],
   "source": [
    "A.dot(A)"
   ]
  },
  {
   "cell_type": "code",
   "execution_count": 45,
   "metadata": {
    "collapsed": false
   },
   "outputs": [
    {
     "data": {
      "text/plain": [
       "array([ 0. ,  0.5,  1. ])"
      ]
     },
     "execution_count": 45,
     "metadata": {},
     "output_type": "execute_result"
    }
   ],
   "source": [
    "0.5 * v"
   ]
  },
  {
   "cell_type": "code",
   "execution_count": 46,
   "metadata": {
    "collapsed": false
   },
   "outputs": [
    {
     "data": {
      "text/plain": [
       "array([[ 0. ,  0.5,  1. ],\n",
       "       [ 1.5,  2. ,  2.5],\n",
       "       [ 3. ,  3.5,  4. ]])"
      ]
     },
     "execution_count": 46,
     "metadata": {},
     "output_type": "execute_result"
    }
   ],
   "source": [
    "0.5 * A"
   ]
  },
  {
   "cell_type": "code",
   "execution_count": 47,
   "metadata": {
    "collapsed": false
   },
   "outputs": [
    {
     "data": {
      "text/plain": [
       "array([[ 0,  1,  4],\n",
       "       [ 0,  4, 10],\n",
       "       [ 0,  7, 16]])"
      ]
     },
     "execution_count": 47,
     "metadata": {},
     "output_type": "execute_result"
    }
   ],
   "source": [
    "v * A"
   ]
  },
  {
   "cell_type": "markdown",
   "metadata": {},
   "source": [
    "## Control flow"
   ]
  },
  {
   "cell_type": "code",
   "execution_count": 48,
   "metadata": {
    "collapsed": false
   },
   "outputs": [
    {
     "name": "stdout",
     "output_type": "stream",
     "text": [
      "Correct!\n"
     ]
    }
   ],
   "source": [
    "if 2**2 == 4:\n",
    "    print('Correct!')"
   ]
  },
  {
   "cell_type": "code",
   "execution_count": 49,
   "metadata": {
    "collapsed": false
   },
   "outputs": [
    {
     "name": "stdout",
     "output_type": "stream",
     "text": [
      "Not found\n"
     ]
    }
   ],
   "source": [
    "a = 10\n",
    "if a == 1:\n",
    "    print(1)\n",
    "elif a == 2:\n",
    "    print(2)\n",
    "else:\n",
    "    print('Not found')"
   ]
  },
  {
   "cell_type": "code",
   "execution_count": 50,
   "metadata": {
    "collapsed": false
   },
   "outputs": [
    {
     "name": "stdout",
     "output_type": "stream",
     "text": [
      "0\n",
      "1\n",
      "2\n",
      "3\n"
     ]
    }
   ],
   "source": [
    "for i in range(4):\n",
    "    print(i)"
   ]
  },
  {
   "cell_type": "markdown",
   "metadata": {},
   "source": [
    "## Function definitions"
   ]
  },
  {
   "cell_type": "code",
   "execution_count": 51,
   "metadata": {
    "collapsed": false
   },
   "outputs": [
    {
     "data": {
      "text/plain": [
       "4.0"
      ]
     },
     "execution_count": 51,
     "metadata": {},
     "output_type": "execute_result"
    }
   ],
   "source": [
    "def mySquareFunction(input_value):\n",
    "    return input_value**2.0\n",
    "\n",
    "# Call the function\n",
    "mySquareFunction(2.0)"
   ]
  },
  {
   "cell_type": "markdown",
   "metadata": {},
   "source": [
    "## Optimization specific tools"
   ]
  },
  {
   "cell_type": "code",
   "execution_count": 52,
   "metadata": {
    "collapsed": true
   },
   "outputs": [],
   "source": [
    "from scipy.optimize import minimize\n",
    "import matplotlib.pyplot as plt\n",
    "from matplotlib import cm\n",
    "from mpl_toolkits.mplot3d import Axes3D"
   ]
  },
  {
   "cell_type": "markdown",
   "metadata": {},
   "source": [
    "Let us assume we want to minimize the Rosenbrock problem which reads\n",
    "$$ \\text{min } f(\\vec{x}) = 100(x_2 - x_1^2)^2 + (1 - x_1)^2 $$\n",
    "We need to define a function which evaluates the the equation at the point $\\vec{x}$."
   ]
  },
  {
   "cell_type": "code",
   "execution_count": 53,
   "metadata": {
    "collapsed": true
   },
   "outputs": [],
   "source": [
    "def rosen(x):\n",
    "    \"\"\"The Rosenbrock function\"\"\"\n",
    "    return 100.0*(x[0] - x[1]**2.0)**2.0 + (1.0 - x[1])**2.0"
   ]
  },
  {
   "cell_type": "markdown",
   "metadata": {
    "collapsed": false
   },
   "source": [
    "Now lets plot the function"
   ]
  },
  {
   "cell_type": "code",
   "execution_count": 57,
   "metadata": {
    "collapsed": false
   },
   "outputs": [
    {
     "data": {
      "application/javascript": [
       "/* Put everything inside the global mpl namespace */\n",
       "window.mpl = {};\n",
       "\n",
       "mpl.get_websocket_type = function() {\n",
       "    if (typeof(WebSocket) !== 'undefined') {\n",
       "        return WebSocket;\n",
       "    } else if (typeof(MozWebSocket) !== 'undefined') {\n",
       "        return MozWebSocket;\n",
       "    } else {\n",
       "        alert('Your browser does not have WebSocket support.' +\n",
       "              'Please try Chrome, Safari or Firefox ≥ 6. ' +\n",
       "              'Firefox 4 and 5 are also supported but you ' +\n",
       "              'have to enable WebSockets in about:config.');\n",
       "    };\n",
       "}\n",
       "\n",
       "mpl.figure = function(figure_id, websocket, ondownload, parent_element) {\n",
       "    this.id = figure_id;\n",
       "\n",
       "    this.ws = websocket;\n",
       "\n",
       "    this.supports_binary = (this.ws.binaryType != undefined);\n",
       "\n",
       "    if (!this.supports_binary) {\n",
       "        var warnings = document.getElementById(\"mpl-warnings\");\n",
       "        if (warnings) {\n",
       "            warnings.style.display = 'block';\n",
       "            warnings.textContent = (\n",
       "                \"This browser does not support binary websocket messages. \" +\n",
       "                    \"Performance may be slow.\");\n",
       "        }\n",
       "    }\n",
       "\n",
       "    this.imageObj = new Image();\n",
       "\n",
       "    this.context = undefined;\n",
       "    this.message = undefined;\n",
       "    this.canvas = undefined;\n",
       "    this.rubberband_canvas = undefined;\n",
       "    this.rubberband_context = undefined;\n",
       "    this.format_dropdown = undefined;\n",
       "\n",
       "    this.image_mode = 'full';\n",
       "\n",
       "    this.root = $('<div/>');\n",
       "    this._root_extra_style(this.root)\n",
       "    this.root.attr('style', 'display: inline-block');\n",
       "\n",
       "    $(parent_element).append(this.root);\n",
       "\n",
       "    this._init_header(this);\n",
       "    this._init_canvas(this);\n",
       "    this._init_toolbar(this);\n",
       "\n",
       "    var fig = this;\n",
       "\n",
       "    this.waiting = false;\n",
       "\n",
       "    this.ws.onopen =  function () {\n",
       "            fig.send_message(\"supports_binary\", {value: fig.supports_binary});\n",
       "            fig.send_message(\"send_image_mode\", {});\n",
       "            fig.send_message(\"refresh\", {});\n",
       "        }\n",
       "\n",
       "    this.imageObj.onload = function() {\n",
       "            if (fig.image_mode == 'full') {\n",
       "                // Full images could contain transparency (where diff images\n",
       "                // almost always do), so we need to clear the canvas so that\n",
       "                // there is no ghosting.\n",
       "                fig.context.clearRect(0, 0, fig.canvas.width, fig.canvas.height);\n",
       "            }\n",
       "            fig.context.drawImage(fig.imageObj, 0, 0);\n",
       "        };\n",
       "\n",
       "    this.imageObj.onunload = function() {\n",
       "        this.ws.close();\n",
       "    }\n",
       "\n",
       "    this.ws.onmessage = this._make_on_message_function(this);\n",
       "\n",
       "    this.ondownload = ondownload;\n",
       "}\n",
       "\n",
       "mpl.figure.prototype._init_header = function() {\n",
       "    var titlebar = $(\n",
       "        '<div class=\"ui-dialog-titlebar ui-widget-header ui-corner-all ' +\n",
       "        'ui-helper-clearfix\"/>');\n",
       "    var titletext = $(\n",
       "        '<div class=\"ui-dialog-title\" style=\"width: 100%; ' +\n",
       "        'text-align: center; padding: 3px;\"/>');\n",
       "    titlebar.append(titletext)\n",
       "    this.root.append(titlebar);\n",
       "    this.header = titletext[0];\n",
       "}\n",
       "\n",
       "\n",
       "\n",
       "mpl.figure.prototype._canvas_extra_style = function(canvas_div) {\n",
       "\n",
       "}\n",
       "\n",
       "\n",
       "mpl.figure.prototype._root_extra_style = function(canvas_div) {\n",
       "\n",
       "}\n",
       "\n",
       "mpl.figure.prototype._init_canvas = function() {\n",
       "    var fig = this;\n",
       "\n",
       "    var canvas_div = $('<div/>');\n",
       "\n",
       "    canvas_div.attr('style', 'position: relative; clear: both; outline: 0');\n",
       "\n",
       "    function canvas_keyboard_event(event) {\n",
       "        return fig.key_event(event, event['data']);\n",
       "    }\n",
       "\n",
       "    canvas_div.keydown('key_press', canvas_keyboard_event);\n",
       "    canvas_div.keyup('key_release', canvas_keyboard_event);\n",
       "    this.canvas_div = canvas_div\n",
       "    this._canvas_extra_style(canvas_div)\n",
       "    this.root.append(canvas_div);\n",
       "\n",
       "    var canvas = $('<canvas/>');\n",
       "    canvas.addClass('mpl-canvas');\n",
       "    canvas.attr('style', \"left: 0; top: 0; z-index: 0; outline: 0\")\n",
       "\n",
       "    this.canvas = canvas[0];\n",
       "    this.context = canvas[0].getContext(\"2d\");\n",
       "\n",
       "    var rubberband = $('<canvas/>');\n",
       "    rubberband.attr('style', \"position: absolute; left: 0; top: 0; z-index: 1;\")\n",
       "\n",
       "    var pass_mouse_events = true;\n",
       "\n",
       "    canvas_div.resizable({\n",
       "        start: function(event, ui) {\n",
       "            pass_mouse_events = false;\n",
       "        },\n",
       "        resize: function(event, ui) {\n",
       "            fig.request_resize(ui.size.width, ui.size.height);\n",
       "        },\n",
       "        stop: function(event, ui) {\n",
       "            pass_mouse_events = true;\n",
       "            fig.request_resize(ui.size.width, ui.size.height);\n",
       "        },\n",
       "    });\n",
       "\n",
       "    function mouse_event_fn(event) {\n",
       "        if (pass_mouse_events)\n",
       "            return fig.mouse_event(event, event['data']);\n",
       "    }\n",
       "\n",
       "    rubberband.mousedown('button_press', mouse_event_fn);\n",
       "    rubberband.mouseup('button_release', mouse_event_fn);\n",
       "    // Throttle sequential mouse events to 1 every 20ms.\n",
       "    rubberband.mousemove('motion_notify', mouse_event_fn);\n",
       "\n",
       "    rubberband.mouseenter('figure_enter', mouse_event_fn);\n",
       "    rubberband.mouseleave('figure_leave', mouse_event_fn);\n",
       "\n",
       "    canvas_div.on(\"wheel\", function (event) {\n",
       "        event = event.originalEvent;\n",
       "        event['data'] = 'scroll'\n",
       "        if (event.deltaY < 0) {\n",
       "            event.step = 1;\n",
       "        } else {\n",
       "            event.step = -1;\n",
       "        }\n",
       "        mouse_event_fn(event);\n",
       "    });\n",
       "\n",
       "    canvas_div.append(canvas);\n",
       "    canvas_div.append(rubberband);\n",
       "\n",
       "    this.rubberband = rubberband;\n",
       "    this.rubberband_canvas = rubberband[0];\n",
       "    this.rubberband_context = rubberband[0].getContext(\"2d\");\n",
       "    this.rubberband_context.strokeStyle = \"#000000\";\n",
       "\n",
       "    this._resize_canvas = function(width, height) {\n",
       "        // Keep the size of the canvas, canvas container, and rubber band\n",
       "        // canvas in synch.\n",
       "        canvas_div.css('width', width)\n",
       "        canvas_div.css('height', height)\n",
       "\n",
       "        canvas.attr('width', width);\n",
       "        canvas.attr('height', height);\n",
       "\n",
       "        rubberband.attr('width', width);\n",
       "        rubberband.attr('height', height);\n",
       "    }\n",
       "\n",
       "    // Set the figure to an initial 600x600px, this will subsequently be updated\n",
       "    // upon first draw.\n",
       "    this._resize_canvas(600, 600);\n",
       "\n",
       "    // Disable right mouse context menu.\n",
       "    $(this.rubberband_canvas).bind(\"contextmenu\",function(e){\n",
       "        return false;\n",
       "    });\n",
       "\n",
       "    function set_focus () {\n",
       "        canvas.focus();\n",
       "        canvas_div.focus();\n",
       "    }\n",
       "\n",
       "    window.setTimeout(set_focus, 100);\n",
       "}\n",
       "\n",
       "mpl.figure.prototype._init_toolbar = function() {\n",
       "    var fig = this;\n",
       "\n",
       "    var nav_element = $('<div/>')\n",
       "    nav_element.attr('style', 'width: 100%');\n",
       "    this.root.append(nav_element);\n",
       "\n",
       "    // Define a callback function for later on.\n",
       "    function toolbar_event(event) {\n",
       "        return fig.toolbar_button_onclick(event['data']);\n",
       "    }\n",
       "    function toolbar_mouse_event(event) {\n",
       "        return fig.toolbar_button_onmouseover(event['data']);\n",
       "    }\n",
       "\n",
       "    for(var toolbar_ind in mpl.toolbar_items) {\n",
       "        var name = mpl.toolbar_items[toolbar_ind][0];\n",
       "        var tooltip = mpl.toolbar_items[toolbar_ind][1];\n",
       "        var image = mpl.toolbar_items[toolbar_ind][2];\n",
       "        var method_name = mpl.toolbar_items[toolbar_ind][3];\n",
       "\n",
       "        if (!name) {\n",
       "            // put a spacer in here.\n",
       "            continue;\n",
       "        }\n",
       "        var button = $('<button/>');\n",
       "        button.addClass('ui-button ui-widget ui-state-default ui-corner-all ' +\n",
       "                        'ui-button-icon-only');\n",
       "        button.attr('role', 'button');\n",
       "        button.attr('aria-disabled', 'false');\n",
       "        button.click(method_name, toolbar_event);\n",
       "        button.mouseover(tooltip, toolbar_mouse_event);\n",
       "\n",
       "        var icon_img = $('<span/>');\n",
       "        icon_img.addClass('ui-button-icon-primary ui-icon');\n",
       "        icon_img.addClass(image);\n",
       "        icon_img.addClass('ui-corner-all');\n",
       "\n",
       "        var tooltip_span = $('<span/>');\n",
       "        tooltip_span.addClass('ui-button-text');\n",
       "        tooltip_span.html(tooltip);\n",
       "\n",
       "        button.append(icon_img);\n",
       "        button.append(tooltip_span);\n",
       "\n",
       "        nav_element.append(button);\n",
       "    }\n",
       "\n",
       "    var fmt_picker_span = $('<span/>');\n",
       "\n",
       "    var fmt_picker = $('<select/>');\n",
       "    fmt_picker.addClass('mpl-toolbar-option ui-widget ui-widget-content');\n",
       "    fmt_picker_span.append(fmt_picker);\n",
       "    nav_element.append(fmt_picker_span);\n",
       "    this.format_dropdown = fmt_picker[0];\n",
       "\n",
       "    for (var ind in mpl.extensions) {\n",
       "        var fmt = mpl.extensions[ind];\n",
       "        var option = $(\n",
       "            '<option/>', {selected: fmt === mpl.default_extension}).html(fmt);\n",
       "        fmt_picker.append(option)\n",
       "    }\n",
       "\n",
       "    // Add hover states to the ui-buttons\n",
       "    $( \".ui-button\" ).hover(\n",
       "        function() { $(this).addClass(\"ui-state-hover\");},\n",
       "        function() { $(this).removeClass(\"ui-state-hover\");}\n",
       "    );\n",
       "\n",
       "    var status_bar = $('<span class=\"mpl-message\"/>');\n",
       "    nav_element.append(status_bar);\n",
       "    this.message = status_bar[0];\n",
       "}\n",
       "\n",
       "mpl.figure.prototype.request_resize = function(x_pixels, y_pixels) {\n",
       "    // Request matplotlib to resize the figure. Matplotlib will then trigger a resize in the client,\n",
       "    // which will in turn request a refresh of the image.\n",
       "    this.send_message('resize', {'width': x_pixels, 'height': y_pixels});\n",
       "}\n",
       "\n",
       "mpl.figure.prototype.send_message = function(type, properties) {\n",
       "    properties['type'] = type;\n",
       "    properties['figure_id'] = this.id;\n",
       "    this.ws.send(JSON.stringify(properties));\n",
       "}\n",
       "\n",
       "mpl.figure.prototype.send_draw_message = function() {\n",
       "    if (!this.waiting) {\n",
       "        this.waiting = true;\n",
       "        this.ws.send(JSON.stringify({type: \"draw\", figure_id: this.id}));\n",
       "    }\n",
       "}\n",
       "\n",
       "\n",
       "mpl.figure.prototype.handle_save = function(fig, msg) {\n",
       "    var format_dropdown = fig.format_dropdown;\n",
       "    var format = format_dropdown.options[format_dropdown.selectedIndex].value;\n",
       "    fig.ondownload(fig, format);\n",
       "}\n",
       "\n",
       "\n",
       "mpl.figure.prototype.handle_resize = function(fig, msg) {\n",
       "    var size = msg['size'];\n",
       "    if (size[0] != fig.canvas.width || size[1] != fig.canvas.height) {\n",
       "        fig._resize_canvas(size[0], size[1]);\n",
       "        fig.send_message(\"refresh\", {});\n",
       "    };\n",
       "}\n",
       "\n",
       "mpl.figure.prototype.handle_rubberband = function(fig, msg) {\n",
       "    var x0 = msg['x0'];\n",
       "    var y0 = fig.canvas.height - msg['y0'];\n",
       "    var x1 = msg['x1'];\n",
       "    var y1 = fig.canvas.height - msg['y1'];\n",
       "    x0 = Math.floor(x0) + 0.5;\n",
       "    y0 = Math.floor(y0) + 0.5;\n",
       "    x1 = Math.floor(x1) + 0.5;\n",
       "    y1 = Math.floor(y1) + 0.5;\n",
       "    var min_x = Math.min(x0, x1);\n",
       "    var min_y = Math.min(y0, y1);\n",
       "    var width = Math.abs(x1 - x0);\n",
       "    var height = Math.abs(y1 - y0);\n",
       "\n",
       "    fig.rubberband_context.clearRect(\n",
       "        0, 0, fig.canvas.width, fig.canvas.height);\n",
       "\n",
       "    fig.rubberband_context.strokeRect(min_x, min_y, width, height);\n",
       "}\n",
       "\n",
       "mpl.figure.prototype.handle_figure_label = function(fig, msg) {\n",
       "    // Updates the figure title.\n",
       "    fig.header.textContent = msg['label'];\n",
       "}\n",
       "\n",
       "mpl.figure.prototype.handle_cursor = function(fig, msg) {\n",
       "    var cursor = msg['cursor'];\n",
       "    switch(cursor)\n",
       "    {\n",
       "    case 0:\n",
       "        cursor = 'pointer';\n",
       "        break;\n",
       "    case 1:\n",
       "        cursor = 'default';\n",
       "        break;\n",
       "    case 2:\n",
       "        cursor = 'crosshair';\n",
       "        break;\n",
       "    case 3:\n",
       "        cursor = 'move';\n",
       "        break;\n",
       "    }\n",
       "    fig.rubberband_canvas.style.cursor = cursor;\n",
       "}\n",
       "\n",
       "mpl.figure.prototype.handle_message = function(fig, msg) {\n",
       "    fig.message.textContent = msg['message'];\n",
       "}\n",
       "\n",
       "mpl.figure.prototype.handle_draw = function(fig, msg) {\n",
       "    // Request the server to send over a new figure.\n",
       "    fig.send_draw_message();\n",
       "}\n",
       "\n",
       "mpl.figure.prototype.handle_image_mode = function(fig, msg) {\n",
       "    fig.image_mode = msg['mode'];\n",
       "}\n",
       "\n",
       "mpl.figure.prototype.updated_canvas_event = function() {\n",
       "    // Called whenever the canvas gets updated.\n",
       "    this.send_message(\"ack\", {});\n",
       "}\n",
       "\n",
       "// A function to construct a web socket function for onmessage handling.\n",
       "// Called in the figure constructor.\n",
       "mpl.figure.prototype._make_on_message_function = function(fig) {\n",
       "    return function socket_on_message(evt) {\n",
       "        if (evt.data instanceof Blob) {\n",
       "            /* FIXME: We get \"Resource interpreted as Image but\n",
       "             * transferred with MIME type text/plain:\" errors on\n",
       "             * Chrome.  But how to set the MIME type?  It doesn't seem\n",
       "             * to be part of the websocket stream */\n",
       "            evt.data.type = \"image/png\";\n",
       "\n",
       "            /* Free the memory for the previous frames */\n",
       "            if (fig.imageObj.src) {\n",
       "                (window.URL || window.webkitURL).revokeObjectURL(\n",
       "                    fig.imageObj.src);\n",
       "            }\n",
       "\n",
       "            fig.imageObj.src = (window.URL || window.webkitURL).createObjectURL(\n",
       "                evt.data);\n",
       "            fig.updated_canvas_event();\n",
       "            fig.waiting = false;\n",
       "            return;\n",
       "        }\n",
       "        else if (typeof evt.data === 'string' && evt.data.slice(0, 21) == \"data:image/png;base64\") {\n",
       "            fig.imageObj.src = evt.data;\n",
       "            fig.updated_canvas_event();\n",
       "            fig.waiting = false;\n",
       "            return;\n",
       "        }\n",
       "\n",
       "        var msg = JSON.parse(evt.data);\n",
       "        var msg_type = msg['type'];\n",
       "\n",
       "        // Call the  \"handle_{type}\" callback, which takes\n",
       "        // the figure and JSON message as its only arguments.\n",
       "        try {\n",
       "            var callback = fig[\"handle_\" + msg_type];\n",
       "        } catch (e) {\n",
       "            console.log(\"No handler for the '\" + msg_type + \"' message type: \", msg);\n",
       "            return;\n",
       "        }\n",
       "\n",
       "        if (callback) {\n",
       "            try {\n",
       "                // console.log(\"Handling '\" + msg_type + \"' message: \", msg);\n",
       "                callback(fig, msg);\n",
       "            } catch (e) {\n",
       "                console.log(\"Exception inside the 'handler_\" + msg_type + \"' callback:\", e, e.stack, msg);\n",
       "            }\n",
       "        }\n",
       "    };\n",
       "}\n",
       "\n",
       "// from http://stackoverflow.com/questions/1114465/getting-mouse-location-in-canvas\n",
       "mpl.findpos = function(e) {\n",
       "    //this section is from http://www.quirksmode.org/js/events_properties.html\n",
       "    var targ;\n",
       "    if (!e)\n",
       "        e = window.event;\n",
       "    if (e.target)\n",
       "        targ = e.target;\n",
       "    else if (e.srcElement)\n",
       "        targ = e.srcElement;\n",
       "    if (targ.nodeType == 3) // defeat Safari bug\n",
       "        targ = targ.parentNode;\n",
       "\n",
       "    // jQuery normalizes the pageX and pageY\n",
       "    // pageX,Y are the mouse positions relative to the document\n",
       "    // offset() returns the position of the element relative to the document\n",
       "    var x = e.pageX - $(targ).offset().left;\n",
       "    var y = e.pageY - $(targ).offset().top;\n",
       "\n",
       "    return {\"x\": x, \"y\": y};\n",
       "};\n",
       "\n",
       "/*\n",
       " * return a copy of an object with only non-object keys\n",
       " * we need this to avoid circular references\n",
       " * http://stackoverflow.com/a/24161582/3208463\n",
       " */\n",
       "function simpleKeys (original) {\n",
       "  return Object.keys(original).reduce(function (obj, key) {\n",
       "    if (typeof original[key] !== 'object')\n",
       "        obj[key] = original[key]\n",
       "    return obj;\n",
       "  }, {});\n",
       "}\n",
       "\n",
       "mpl.figure.prototype.mouse_event = function(event, name) {\n",
       "    var canvas_pos = mpl.findpos(event)\n",
       "\n",
       "    if (name === 'button_press')\n",
       "    {\n",
       "        this.canvas.focus();\n",
       "        this.canvas_div.focus();\n",
       "    }\n",
       "\n",
       "    var x = canvas_pos.x;\n",
       "    var y = canvas_pos.y;\n",
       "\n",
       "    this.send_message(name, {x: x, y: y, button: event.button,\n",
       "                             step: event.step,\n",
       "                             guiEvent: simpleKeys(event)});\n",
       "\n",
       "    /* This prevents the web browser from automatically changing to\n",
       "     * the text insertion cursor when the button is pressed.  We want\n",
       "     * to control all of the cursor setting manually through the\n",
       "     * 'cursor' event from matplotlib */\n",
       "    event.preventDefault();\n",
       "    return false;\n",
       "}\n",
       "\n",
       "mpl.figure.prototype._key_event_extra = function(event, name) {\n",
       "    // Handle any extra behaviour associated with a key event\n",
       "}\n",
       "\n",
       "mpl.figure.prototype.key_event = function(event, name) {\n",
       "\n",
       "    // Prevent repeat events\n",
       "    if (name == 'key_press')\n",
       "    {\n",
       "        if (event.which === this._key)\n",
       "            return;\n",
       "        else\n",
       "            this._key = event.which;\n",
       "    }\n",
       "    if (name == 'key_release')\n",
       "        this._key = null;\n",
       "\n",
       "    var value = '';\n",
       "    if (event.ctrlKey && event.which != 17)\n",
       "        value += \"ctrl+\";\n",
       "    if (event.altKey && event.which != 18)\n",
       "        value += \"alt+\";\n",
       "    if (event.shiftKey && event.which != 16)\n",
       "        value += \"shift+\";\n",
       "\n",
       "    value += 'k';\n",
       "    value += event.which.toString();\n",
       "\n",
       "    this._key_event_extra(event, name);\n",
       "\n",
       "    this.send_message(name, {key: value,\n",
       "                             guiEvent: simpleKeys(event)});\n",
       "    return false;\n",
       "}\n",
       "\n",
       "mpl.figure.prototype.toolbar_button_onclick = function(name) {\n",
       "    if (name == 'download') {\n",
       "        this.handle_save(this, null);\n",
       "    } else {\n",
       "        this.send_message(\"toolbar_button\", {name: name});\n",
       "    }\n",
       "};\n",
       "\n",
       "mpl.figure.prototype.toolbar_button_onmouseover = function(tooltip) {\n",
       "    this.message.textContent = tooltip;\n",
       "};\n",
       "mpl.toolbar_items = [[\"Home\", \"Reset original view\", \"fa fa-home icon-home\", \"home\"], [\"Back\", \"Back to  previous view\", \"fa fa-arrow-left icon-arrow-left\", \"back\"], [\"Forward\", \"Forward to next view\", \"fa fa-arrow-right icon-arrow-right\", \"forward\"], [\"\", \"\", \"\", \"\"], [\"Pan\", \"Pan axes with left mouse, zoom with right\", \"fa fa-arrows icon-move\", \"pan\"], [\"Zoom\", \"Zoom to rectangle\", \"fa fa-square-o icon-check-empty\", \"zoom\"], [\"\", \"\", \"\", \"\"], [\"Download\", \"Download plot\", \"fa fa-floppy-o icon-save\", \"download\"]];\n",
       "\n",
       "mpl.extensions = [\"eps\", \"pdf\", \"png\", \"ps\", \"raw\", \"svg\"];\n",
       "\n",
       "mpl.default_extension = \"png\";var comm_websocket_adapter = function(comm) {\n",
       "    // Create a \"websocket\"-like object which calls the given IPython comm\n",
       "    // object with the appropriate methods. Currently this is a non binary\n",
       "    // socket, so there is still some room for performance tuning.\n",
       "    var ws = {};\n",
       "\n",
       "    ws.close = function() {\n",
       "        comm.close()\n",
       "    };\n",
       "    ws.send = function(m) {\n",
       "        //console.log('sending', m);\n",
       "        comm.send(m);\n",
       "    };\n",
       "    // Register the callback with on_msg.\n",
       "    comm.on_msg(function(msg) {\n",
       "        //console.log('receiving', msg['content']['data'], msg);\n",
       "        // Pass the mpl event to the overriden (by mpl) onmessage function.\n",
       "        ws.onmessage(msg['content']['data'])\n",
       "    });\n",
       "    return ws;\n",
       "}\n",
       "\n",
       "mpl.mpl_figure_comm = function(comm, msg) {\n",
       "    // This is the function which gets called when the mpl process\n",
       "    // starts-up an IPython Comm through the \"matplotlib\" channel.\n",
       "\n",
       "    var id = msg.content.data.id;\n",
       "    // Get hold of the div created by the display call when the Comm\n",
       "    // socket was opened in Python.\n",
       "    var element = $(\"#\" + id);\n",
       "    var ws_proxy = comm_websocket_adapter(comm)\n",
       "\n",
       "    function ondownload(figure, format) {\n",
       "        window.open(figure.imageObj.src);\n",
       "    }\n",
       "\n",
       "    var fig = new mpl.figure(id, ws_proxy,\n",
       "                           ondownload,\n",
       "                           element.get(0));\n",
       "\n",
       "    // Call onopen now - mpl needs it, as it is assuming we've passed it a real\n",
       "    // web socket which is closed, not our websocket->open comm proxy.\n",
       "    ws_proxy.onopen();\n",
       "\n",
       "    fig.parent_element = element.get(0);\n",
       "    fig.cell_info = mpl.find_output_cell(\"<div id='\" + id + \"'></div>\");\n",
       "    if (!fig.cell_info) {\n",
       "        console.error(\"Failed to find cell for figure\", id, fig);\n",
       "        return;\n",
       "    }\n",
       "\n",
       "    var output_index = fig.cell_info[2]\n",
       "    var cell = fig.cell_info[0];\n",
       "\n",
       "};\n",
       "\n",
       "mpl.figure.prototype.handle_close = function(fig, msg) {\n",
       "    fig.root.unbind('remove')\n",
       "\n",
       "    // Update the output cell to use the data from the current canvas.\n",
       "    fig.push_to_output();\n",
       "    var dataURL = fig.canvas.toDataURL();\n",
       "    // Re-enable the keyboard manager in IPython - without this line, in FF,\n",
       "    // the notebook keyboard shortcuts fail.\n",
       "    IPython.keyboard_manager.enable()\n",
       "    $(fig.parent_element).html('<img src=\"' + dataURL + '\">');\n",
       "    fig.close_ws(fig, msg);\n",
       "}\n",
       "\n",
       "mpl.figure.prototype.close_ws = function(fig, msg){\n",
       "    fig.send_message('closing', msg);\n",
       "    // fig.ws.close()\n",
       "}\n",
       "\n",
       "mpl.figure.prototype.push_to_output = function(remove_interactive) {\n",
       "    // Turn the data on the canvas into data in the output cell.\n",
       "    var dataURL = this.canvas.toDataURL();\n",
       "    this.cell_info[1]['text/html'] = '<img src=\"' + dataURL + '\">';\n",
       "}\n",
       "\n",
       "mpl.figure.prototype.updated_canvas_event = function() {\n",
       "    // Tell IPython that the notebook contents must change.\n",
       "    IPython.notebook.set_dirty(true);\n",
       "    this.send_message(\"ack\", {});\n",
       "    var fig = this;\n",
       "    // Wait a second, then push the new image to the DOM so\n",
       "    // that it is saved nicely (might be nice to debounce this).\n",
       "    setTimeout(function () { fig.push_to_output() }, 1000);\n",
       "}\n",
       "\n",
       "mpl.figure.prototype._init_toolbar = function() {\n",
       "    var fig = this;\n",
       "\n",
       "    var nav_element = $('<div/>')\n",
       "    nav_element.attr('style', 'width: 100%');\n",
       "    this.root.append(nav_element);\n",
       "\n",
       "    // Define a callback function for later on.\n",
       "    function toolbar_event(event) {\n",
       "        return fig.toolbar_button_onclick(event['data']);\n",
       "    }\n",
       "    function toolbar_mouse_event(event) {\n",
       "        return fig.toolbar_button_onmouseover(event['data']);\n",
       "    }\n",
       "\n",
       "    for(var toolbar_ind in mpl.toolbar_items){\n",
       "        var name = mpl.toolbar_items[toolbar_ind][0];\n",
       "        var tooltip = mpl.toolbar_items[toolbar_ind][1];\n",
       "        var image = mpl.toolbar_items[toolbar_ind][2];\n",
       "        var method_name = mpl.toolbar_items[toolbar_ind][3];\n",
       "\n",
       "        if (!name) { continue; };\n",
       "\n",
       "        var button = $('<button class=\"btn btn-default\" href=\"#\" title=\"' + name + '\"><i class=\"fa ' + image + ' fa-lg\"></i></button>');\n",
       "        button.click(method_name, toolbar_event);\n",
       "        button.mouseover(tooltip, toolbar_mouse_event);\n",
       "        nav_element.append(button);\n",
       "    }\n",
       "\n",
       "    // Add the status bar.\n",
       "    var status_bar = $('<span class=\"mpl-message\" style=\"text-align:right; float: right;\"/>');\n",
       "    nav_element.append(status_bar);\n",
       "    this.message = status_bar[0];\n",
       "\n",
       "    // Add the close button to the window.\n",
       "    var buttongrp = $('<div class=\"btn-group inline pull-right\"></div>');\n",
       "    var button = $('<button class=\"btn btn-mini btn-primary\" href=\"#\" title=\"Stop Interaction\"><i class=\"fa fa-power-off icon-remove icon-large\"></i></button>');\n",
       "    button.click(function (evt) { fig.handle_close(fig, {}); } );\n",
       "    button.mouseover('Stop Interaction', toolbar_mouse_event);\n",
       "    buttongrp.append(button);\n",
       "    var titlebar = this.root.find($('.ui-dialog-titlebar'));\n",
       "    titlebar.prepend(buttongrp);\n",
       "}\n",
       "\n",
       "mpl.figure.prototype._root_extra_style = function(el){\n",
       "    var fig = this\n",
       "    el.on(\"remove\", function(){\n",
       "\tfig.close_ws(fig, {});\n",
       "    });\n",
       "}\n",
       "\n",
       "mpl.figure.prototype._canvas_extra_style = function(el){\n",
       "    // this is important to make the div 'focusable\n",
       "    el.attr('tabindex', 0)\n",
       "    // reach out to IPython and tell the keyboard manager to turn it's self\n",
       "    // off when our div gets focus\n",
       "\n",
       "    // location in version 3\n",
       "    if (IPython.notebook.keyboard_manager) {\n",
       "        IPython.notebook.keyboard_manager.register_events(el);\n",
       "    }\n",
       "    else {\n",
       "        // location in version 2\n",
       "        IPython.keyboard_manager.register_events(el);\n",
       "    }\n",
       "\n",
       "}\n",
       "\n",
       "mpl.figure.prototype._key_event_extra = function(event, name) {\n",
       "    var manager = IPython.notebook.keyboard_manager;\n",
       "    if (!manager)\n",
       "        manager = IPython.keyboard_manager;\n",
       "\n",
       "    // Check for shift+enter\n",
       "    if (event.shiftKey && event.which == 13) {\n",
       "        this.canvas_div.blur();\n",
       "        // select the cell after this one\n",
       "        var index = IPython.notebook.find_cell_index(this.cell_info[0]);\n",
       "        IPython.notebook.select(index + 1);\n",
       "    }\n",
       "}\n",
       "\n",
       "mpl.figure.prototype.handle_save = function(fig, msg) {\n",
       "    fig.ondownload(fig, null);\n",
       "}\n",
       "\n",
       "\n",
       "mpl.find_output_cell = function(html_output) {\n",
       "    // Return the cell and output element which can be found *uniquely* in the notebook.\n",
       "    // Note - this is a bit hacky, but it is done because the \"notebook_saving.Notebook\"\n",
       "    // IPython event is triggered only after the cells have been serialised, which for\n",
       "    // our purposes (turning an active figure into a static one), is too late.\n",
       "    var cells = IPython.notebook.get_cells();\n",
       "    var ncells = cells.length;\n",
       "    for (var i=0; i<ncells; i++) {\n",
       "        var cell = cells[i];\n",
       "        if (cell.cell_type === 'code'){\n",
       "            for (var j=0; j<cell.output_area.outputs.length; j++) {\n",
       "                var data = cell.output_area.outputs[j];\n",
       "                if (data.data) {\n",
       "                    // IPython >= 3 moved mimebundle to data attribute of output\n",
       "                    data = data.data;\n",
       "                }\n",
       "                if (data['text/html'] == html_output) {\n",
       "                    return [cell, data, j];\n",
       "                }\n",
       "            }\n",
       "        }\n",
       "    }\n",
       "}\n",
       "\n",
       "// Register the function which deals with the matplotlib target/channel.\n",
       "// The kernel may be null if the page has been refreshed.\n",
       "if (IPython.notebook.kernel != null) {\n",
       "    IPython.notebook.kernel.comm_manager.register_target('matplotlib', mpl.mpl_figure_comm);\n",
       "}\n"
      ],
      "text/plain": [
       "<IPython.core.display.Javascript object>"
      ]
     },
     "metadata": {},
     "output_type": "display_data"
    },
    {
     "data": {
      "text/html": [
       "<img src=\"data:image/png;base64,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\">"
      ],
      "text/plain": [
       "<IPython.core.display.HTML object>"
      ]
     },
     "metadata": {},
     "output_type": "display_data"
    }
   ],
   "source": [
    "X = np.arange(-1.5, 1.5, 0.1)\n",
    "Y = np.arange(-1.5, 1.5, 0.1)\n",
    "X, Y = np.meshgrid(X, Y)\n",
    "fig = plt.figure()\n",
    "ax = fig.gca(projection='3d')\n",
    "Z = rosen(np.array([X,Y]))\n",
    "surf = ax.plot_surface(X, Y, Z,\n",
    "                       rstride=2,   # row step size\n",
    "                       cstride=2,   # column step size\n",
    "                       cmap=cm.jet, # colour map\n",
    "                       linewidth=1, # wireframe line width\n",
    "                       antialiased=True)"
   ]
  },
  {
   "cell_type": "markdown",
   "metadata": {},
   "source": [
    "Let us find the minimum of $f(x)$. We define an initial guess and use the build in Nelder-Mead method."
   ]
  },
  {
   "cell_type": "code",
   "execution_count": 55,
   "metadata": {
    "collapsed": false
   },
   "outputs": [
    {
     "name": "stdout",
     "output_type": "stream",
     "text": [
      "Optimization terminated successfully.\n",
      "         Current function value: 0.000000\n",
      "         Iterations: 97\n",
      "         Function evaluations: 185\n"
     ]
    }
   ],
   "source": [
    "x0 = np.array([-1.0, -1.0])\n",
    "res = minimize(rosen, x0, method='nelder-mead', options={'xtol': 1e-8, 'disp': True})"
   ]
  },
  {
   "cell_type": "code",
   "execution_count": 56,
   "metadata": {
    "collapsed": false
   },
   "outputs": [
    {
     "name": "stdout",
     "output_type": "stream",
     "text": [
      "The resulting minimum of f(x) = [ 1.  1.]\n"
     ]
    }
   ],
   "source": [
    "print('The resulting minimum of f(x) = {}'.format(res.x))"
   ]
  },
  {
   "cell_type": "code",
   "execution_count": null,
   "metadata": {
    "collapsed": true
   },
   "outputs": [],
   "source": []
  }
 ],
 "metadata": {
  "kernelspec": {
   "display_name": "Python 2",
   "language": "python",
   "name": "python2"
  },
  "language_info": {
   "codemirror_mode": {
    "name": "ipython",
    "version": 2
   },
   "file_extension": ".py",
   "mimetype": "text/x-python",
   "name": "python",
   "nbconvert_exporter": "python",
   "pygments_lexer": "ipython2",
   "version": "2.7.12"
  }
 },
 "nbformat": 4,
 "nbformat_minor": 1
}
